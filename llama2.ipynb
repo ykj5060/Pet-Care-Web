{
 "cells": [
  {
   "cell_type": "code",
   "execution_count": 1,
   "id": "59fe9a5a-5d2c-4fbf-9c08-1f03a8156390",
   "metadata": {
    "tags": []
   },
   "outputs": [],
   "source": [
    "!pip install \"sagemaker>=2.175.0\" --upgrade --quiet"
   ]
  },
  {
   "cell_type": "code",
   "execution_count": 2,
   "id": "841f49ad-1c28-47e0-990f-14ab33a1affa",
   "metadata": {
    "tags": []
   },
   "outputs": [
    {
     "name": "stdout",
     "output_type": "stream",
     "text": [
      "sagemaker.config INFO - Not applying SDK defaults from location: /etc/xdg/sagemaker/config.yaml\n",
      "sagemaker.config INFO - Not applying SDK defaults from location: /home/ec2-user/.config/sagemaker/config.yaml\n",
      "sagemaker role arn:arn:aws:iam::016767343899:role/service-role/AmazonSageMaker-ExecutionRole-20240327T155551\n",
      "sagemaker session region:us-east-1\n"
     ]
    }
   ],
   "source": [
    "import sagemaker\n",
    "import boto3\n",
    "\n",
    "sess = sagemaker.Session()\n",
    "sagemaker_session_bucket=None\n",
    "if sagemaker_session_bucket is None and sess is not None:\n",
    "    sagemaker_session_bucket = sess.default_bucket()\n",
    "try:\n",
    "    role = sagemaker.get_execution_role()\n",
    "except ValueError:\n",
    "    iam = boto3.client('iam')\n",
    "    role = iam.get_role(RoleName='sagemaker_execution_role')['Role']['Arn']\n",
    "\n",
    "sess = sagemaker.Session(default_bucket=sagemaker_session_bucket)\n",
    "    \n",
    "print(f'sagemaker role arn:{role}')\n",
    "print(f'sagemaker session region:{sess.boto_region_name}')"
   ]
  },
  {
   "cell_type": "code",
   "execution_count": 20,
   "id": "30433e4c-f8cb-4e7a-a171-2aa4cd8f7373",
   "metadata": {
    "tags": []
   },
   "outputs": [
    {
     "name": "stdout",
     "output_type": "stream",
     "text": [
      "llm image uri: 763104351884.dkr.ecr.us-east-1.amazonaws.com/huggingface-pytorch-tgi-inference:2.0.1-tgi1.0.3-gpu-py39-cu118-ubuntu20.04\n"
     ]
    }
   ],
   "source": [
    "from sagemaker.huggingface import get_huggingface_llm_image_uri\n",
    "\n",
    "llm_image = get_huggingface_llm_image_uri(\n",
    "    \"huggingface\",\n",
    "    version=\"1.0.3\"\n",
    ")\n",
    "print(f\"llm image uri: {llm_image}\")"
   ]
  },
  {
   "cell_type": "code",
   "execution_count": 21,
   "id": "8f2c9c0f-1d40-475d-b24c-09a6c7edf33d",
   "metadata": {
    "tags": []
   },
   "outputs": [],
   "source": [
    "import json\n",
    "from sagemaker.huggingface import HuggingFaceModel\n",
    "\n",
    "instance_type = 'ml.g5.2xlarge'\n",
    "number_of_gpu = 1\n",
    "health_check_timeout = 300\n",
    "\n",
    "config = {\n",
    "    'HF_MODEL_ID': \"NousResearch/Llama-2-7b-chat-hf\",\n",
    "    'SM_NUM_GPUS': json.dumps(number_of_gpu),\n",
    "    'MAX_INPUT_LENGTH': json.dumps(2048),\n",
    "    'MAX_TOTAL_TOKENS': json.dumps(4096),\n",
    "    'MAX_BATCH_TOYAL_TOKENS': json.dumps(8192),\n",
    "    'HUGGING_FACE_HUB_TOKEN': json.dumps('HFAPI')\n",
    "}\n",
    "\n",
    "assert config['HUGGING_FACE_HUB_TOKEN'] != 'HFAPI'\n",
    "\n",
    "llm_model = HuggingFaceModel(\n",
    "    role=role,\n",
    "    image_uri=llm_image,\n",
    "    env=config\n",
    ")"
   ]
  },
  {
   "cell_type": "code",
   "execution_count": 22,
   "id": "155d77db-26cb-4b0e-9dc0-d23e839ba4ff",
   "metadata": {
    "tags": []
   },
   "outputs": [
    {
     "name": "stdout",
     "output_type": "stream",
     "text": [
      "-----------!"
     ]
    }
   ],
   "source": [
    "llm = llm_model.deploy(\n",
    "    initial_instance_count=1,\n",
    "    instance_type=instance_type,\n",
    "    container_startup_health_check_timeout = health_check_timeout,\n",
    ")"
   ]
  },
  {
   "cell_type": "code",
   "execution_count": 23,
   "id": "d5a03fef-7bbf-40c9-9bc0-a92e30b57bdd",
   "metadata": {
    "tags": []
   },
   "outputs": [],
   "source": [
    "def built_llama2_prompt(message):\n",
    "    startPrompt = \"<s>[INST] \"\n",
    "    endPrompt = \" [/INST]\"\n",
    "    conversation = []\n",
    "    for index, message in enumerate(message):\n",
    "        if message[\"role\"] == \"system\" and index == 0:\n",
    "            conversation.append(f\"<<SYS>>\\n{message['content']}\\n<</SYS>>\\n\\n\")\n",
    "        elif message[\"role\"] == \"user\":\n",
    "            conversation.append(message[\"content\"].strip())\n",
    "        else:\n",
    "            conversation.append(f\" [/INST] {message['content'].strip()}</s><s>[INST] \")\n",
    "    \n",
    "    return startPrompt + \"\".join(conversation) + endPrompt\n",
    "\n",
    "message = [\n",
    "    {\"role\":\"system\", \"content\":\"you are a friendly and knowledgeable vacation planning assistant names Clara. Your goal is to have natural conversations with users.\"}\n",
    "]\n",
    "        "
   ]
  },
  {
   "cell_type": "code",
   "execution_count": 24,
   "id": "14137024-17a9-422e-938a-22f0a855d57c",
   "metadata": {
    "tags": []
   },
   "outputs": [
    {
     "name": "stdout",
     "output_type": "stream",
     "text": [
      " Hello there! *smiling* Oh, wow, you must be excited to have some\n"
     ]
    }
   ],
   "source": [
    "instruction = \"Give me some idea what to do when I am free?\"\n",
    "message.append({\"role\":\"user\",\"content\":instruction})\n",
    "prompt = built_llama2_prompt(message)\n",
    "chat = llm.predict({\"inputs\":prompt})\n",
    "print(chat[0][\"generated_text\"][len(prompt):])"
   ]
  },
  {
   "cell_type": "code",
   "execution_count": 25,
   "id": "58ca58b3-279d-4675-8946-983061674bbb",
   "metadata": {
    "tags": []
   },
   "outputs": [
    {
     "name": "stdout",
     "output_type": "stream",
     "text": [
      " Hello there! *smiling* Oh, wow, you must be excited to have some free time! *excitedly* There are so many fun things you could do, depending on your interests, of course! *nods*\n",
      "\n",
      "Let me see... Have you ever tried visiting a local museum or art gallery? *curious* They're great places to learn something new and appreciate the culture of the area. Or, if you're feeling adventurous, you could try something like rock climbing or zip lining! *excitedly* It's a great way to get your heart racing and challenge yourself.\n",
      "\n",
      "If you're looking for something more relaxing, you could always take a stroll through a nearby park or nature reserve. *calmly* It's a lovely way to unwind and connect with nature. Or, if you're in the mood for something more indoor-y, you could try visiting a local winery or brewery! *winks* They're always great for a fun and relaxing afternoon.\n",
      "\n",
      "Oh, and have you thought about taking a cooking class? *excitedly* It's a great way to learn a new skill and enjoy a delicious meal at the end of it! *nods*\n",
      "\n",
      "I hope these ideas help spark some inspiration for you! What do you think? *smiling*\n"
     ]
    }
   ],
   "source": [
    "# hyperparameters for llm\n",
    "payload = {\n",
    "  \"inputs\":  prompt,\n",
    "  \"parameters\": {\n",
    "    \"do_sample\": True,\n",
    "    \"top_p\": 0.6,\n",
    "    \"temperature\": 0.9,\n",
    "    \"top_k\": 50,\n",
    "    \"max_new_tokens\": 512,\n",
    "    \"repetition_penalty\": 1.03,\n",
    "    \"stop\": [\"</s>\"]\n",
    "  }\n",
    "}\n",
    "\n",
    "# send request to endpoint\n",
    "response = llm.predict(payload)\n",
    "\n",
    "print(response[0][\"generated_text\"][len(prompt):])\n"
   ]
  },
  {
   "cell_type": "code",
   "execution_count": null,
   "id": "c2110c3f-97b1-45f6-a054-5c45a0af2939",
   "metadata": {},
   "outputs": [],
   "source": []
  }
 ],
 "metadata": {
  "kernelspec": {
   "display_name": "LangChain",
   "language": "python",
   "name": "langchain"
  },
  "language_info": {
   "codemirror_mode": {
    "name": "ipython",
    "version": 3
   },
   "file_extension": ".py",
   "mimetype": "text/x-python",
   "name": "python",
   "nbconvert_exporter": "python",
   "pygments_lexer": "ipython3",
   "version": "3.11.8"
  }
 },
 "nbformat": 4,
 "nbformat_minor": 5
}
